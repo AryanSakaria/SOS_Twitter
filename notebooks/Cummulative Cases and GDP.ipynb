{
 "cells": [
  {
   "cell_type": "markdown",
   "metadata": {},
   "source": [
    "# Cummulative Cases and GDP\n",
    "\n",
    "\n",
    "Adding GDP info\n",
    "\n",
    "---\n",
    "Import all relevant modules:"
   ]
  },
  {
   "cell_type": "code",
   "execution_count": 1,
   "metadata": {},
   "outputs": [],
   "source": [
    "import os\n",
    "import numpy as np\n",
    "import pandas as pd\n",
    "import matplotlib.pyplot as plt\n",
    "pd.options.mode.chained_assignment = None\n",
    "\n",
    "\n",
    "plt.style.use('ggplot')"
   ]
  },
  {
   "cell_type": "code",
   "execution_count": 2,
   "metadata": {},
   "outputs": [],
   "source": [
    "data_dir = \"../Data\"\n",
    "cities_file = 'city_counts_post11.csv'\n",
    "districts_file = 'districts.csv'\n",
    "\n",
    "districts_path = os.path.join(data_dir, districts_file)\n",
    "cities_path = os.path.join(data_dir, cities_file)\n",
    "#Read all as data frames\n",
    "df_districts = pd.read_csv(districts_path)\n",
    "df_cities = pd.read_csv(cities_path)"
   ]
  },
  {
   "cell_type": "code",
   "execution_count": 3,
   "metadata": {},
   "outputs": [
    {
     "name": "stdout",
     "output_type": "stream",
     "text": [
      "['patna', 'ahmedabad', 'delhi', 'mumbai', 'hyderabad', 'jaipur', 'pune', 'kolkata', 'chandigarh', 'nagpur', 'lucknow', 'dehradun', 'goa', 'nashik', 'allahabad', 'visakhapatnam', 'kanpur', 'surat', 'varanasi', 'aurangabad', 'rajkot', 'vijayawada', 'bhopal', 'vadodara', 'coimbatore', 'agra', 'kochi', 'ludhiana', 'meerut', 'bareilly', 'kolhapur', 'bengaluru', 'chennai', 'madurai', 'thiruvananthapuram', 'trichy', 'gurgaon', 'jodhpur', 'ranchi', 'amaravati', 'ajmer', 'thane', 'navi-mumbai', 'noida', 'shimla', 'amritsar', 'udaipur']\n"
     ]
    }
   ],
   "source": [
    "cities = [ i.casefold() for i in df_cities['City']]\n",
    "print(cities)"
   ]
  },
  {
   "cell_type": "code",
   "execution_count": 4,
   "metadata": {},
   "outputs": [
    {
     "name": "stdout",
     "output_type": "stream",
     "text": [
      "['Visakhapatnam', 'Aurangabad', 'Patna', 'Chandigarh', 'Delhi', 'Ahmedabad', 'Rajkot', 'Surat', 'Vadodara', 'Ranchi', 'Thiruvananthapuram', 'Kolhapur', 'Mumbai', 'Nagpur', 'Nashik', 'Pune', 'Thane', 'Bhopal', 'Amritsar', 'Ludhiana', 'Ajmer', 'Jaipur', 'Jodhpur', 'Udaipur', 'Chennai', 'Coimbatore', 'Madurai', 'Agra', 'Bareilly', 'Lucknow', 'Meerut', 'Varanasi', 'Dehradun', 'Kolkata', 'Shimla']\n"
     ]
    }
   ],
   "source": [
    "#Find unique districts in districts.csv file\n",
    "unique_districts = []\n",
    "for i in df_districts['District']:\n",
    "    if not i in unique_districts:\n",
    "        unique_districts.append(i)\n",
    "    \n",
    "#See how many of these districts match our cities\n",
    "cities_to_plot = []\n",
    "for i in unique_districts:\n",
    "    if i.casefold() in cities:\n",
    "        #Do not use casefold \n",
    "        #when appending as we\n",
    "        #will use this element\n",
    "        #to search in our dataframe\n",
    "        cities_to_plot.append(i)\n",
    "print(cities_to_plot)"
   ]
  },
  {
   "cell_type": "code",
   "execution_count": 5,
   "metadata": {},
   "outputs": [],
   "source": [
    "#Edit dates and city here:\n",
    "\n",
    "#dates in yyyy-\n",
    "start_date = '2021-4-10'\n",
    "end_date = '2021-5-30'\n",
    "\n",
    "#change city. Ristrict to ones posted above\n",
    "city_name='Delhi'"
   ]
  },
  {
   "cell_type": "code",
   "execution_count": 6,
   "metadata": {},
   "outputs": [
    {
     "name": "stdout",
     "output_type": "stream",
     "text": [
      "47\n"
     ]
    }
   ],
   "source": [
    "cities = [i for i in df_cities['City']]\n",
    "len_cities = len(df_cities)\n",
    "print(len_cities)\n",
    "# print(cities)\n",
    "\n",
    "def count_city(df_districts, start_date = '2021-4-10', end_date = '2021-5-30', city_name='Delhi'):\n",
    "    df_filtered = df_districts[df_districts['District'] == city_name]\n",
    "    df_filtered['Date'] = pd.to_datetime(df_filtered['Date'], format='%Y-%m-%d')\n",
    "    mask = (df_filtered['Date'] >= start_date) & (df_filtered['Date'] <= end_date)\n",
    "    df_filtered = df_filtered.loc[mask]\n",
    "    change_in_cases = [0]\n",
    "    count = 0\n",
    "    for i in df_filtered['Confirmed']:\n",
    "        if count == 0:\n",
    "            prev = int(i)\n",
    "        else:\n",
    "            last = int(i)\n",
    "        count += 1\n",
    "    \n",
    "    #matplotlib plotting:\n",
    "    #first convert to numpy\n",
    "    final_count = last - prev\n",
    "    return final_count"
   ]
  },
  {
   "cell_type": "code",
   "execution_count": 7,
   "metadata": {},
   "outputs": [
    {
     "name": "stdout",
     "output_type": "stream",
     "text": [
      "    index                City  Articles  Tweets  CummulativeCases\n",
      "0       0               patna       254    5345                -1\n",
      "1       1           ahmedabad       201    7530                -1\n",
      "2       2               delhi       201  148768                -1\n",
      "3       3              mumbai       192  105133                -1\n",
      "4       4           hyderabad       187   43459                -1\n",
      "5       5              jaipur       165   11125                -1\n",
      "6       6                pune       136   23814                -1\n",
      "7       7             kolkata       132   19520                -1\n",
      "8       8          chandigarh       117    9604                -1\n",
      "9       9              nagpur       115    4805                -1\n",
      "10     10             lucknow       103   10523                -1\n",
      "11     11            dehradun        98    2403                -1\n",
      "12     12                 goa        85    5360                -1\n",
      "13     13              nashik        65    1192                -1\n",
      "14     14           allahabad        64    1136                -1\n",
      "15     15       visakhapatnam        55    1600                -1\n",
      "16     16              kanpur        53    2100                -1\n",
      "17     17               surat        47    3888                -1\n",
      "18     18            varanasi        44    2927                -1\n",
      "19     19          aurangabad        43    1138                -1\n",
      "20     20              rajkot        43     806                -1\n",
      "21     21          vijayawada        42    1609                -1\n",
      "22     22              bhopal        40    3380                -1\n",
      "23     23            vadodara        40    1866                -1\n",
      "24     24          coimbatore        38    2905                -1\n",
      "25     25                agra        35    1056                -1\n",
      "26     26               kochi        33    1426                -1\n",
      "27     27            ludhiana        32    1493                -1\n",
      "28     28              meerut        31     963                -1\n",
      "29     29            bareilly        26     746                -1\n",
      "30     30            kolhapur        26     336                -1\n",
      "31     31           bengaluru        24   45651                -1\n",
      "32     32             chennai        21   34580                -1\n",
      "33     33             madurai        17    1137                -1\n",
      "34     34  thiruvananthapuram        14     731                -1\n",
      "35     35              trichy        13       0                -1\n",
      "36     36             gurgaon        10   25060                -1\n",
      "37     37             jodhpur        10    1347                -1\n",
      "38     38              ranchi         9    2101                -1\n",
      "39     39           amaravati         7       0                -1\n",
      "40     40               ajmer         6     389                -1\n",
      "41     41               thane         6    1802                -1\n",
      "42     42         navi-mumbai         6     429                -1\n",
      "43     43               noida         5   12203                -1\n",
      "44     44              shimla         4    1342                -1\n",
      "45     45            amritsar         4     779                -1\n",
      "46     46             udaipur         4    1122                -1\n"
     ]
    }
   ],
   "source": [
    "final_counts = [-1]*len_cities\n",
    "df_cities = df_cities.assign(CummulativeCases = final_counts)\n",
    "print(df_cities)\n",
    "cities_to_plot_casefold = [i.casefold() for i in cities_to_plot]"
   ]
  },
  {
   "cell_type": "code",
   "execution_count": 19,
   "metadata": {
    "scrolled": true
   },
   "outputs": [
    {
     "name": "stdout",
     "output_type": "stream",
     "text": [
      "Visakhapatnam\n",
      "Aurangabad\n",
      "Patna\n",
      "Chandigarh\n",
      "Delhi\n",
      "Ahmedabad\n",
      "Rajkot\n",
      "Surat\n",
      "Vadodara\n",
      "Ranchi\n",
      "Thiruvananthapuram\n",
      "Kolhapur\n",
      "Mumbai\n",
      "Nagpur\n",
      "Nashik\n",
      "Pune\n",
      "Thane\n",
      "Bhopal\n",
      "Amritsar\n",
      "Ludhiana\n",
      "Ajmer\n",
      "Jaipur\n",
      "Jodhpur\n",
      "Udaipur\n",
      "Chennai\n",
      "Coimbatore\n",
      "Madurai\n",
      "Agra\n",
      "Bareilly\n",
      "Lucknow\n",
      "Meerut\n",
      "Varanasi\n",
      "Dehradun\n",
      "Kolkata\n",
      "Shimla\n"
     ]
    }
   ],
   "source": [
    "for i in cities_to_plot:\n",
    "    print(i)\n",
    "    df_cities.loc[df_cities['City'] == i.casefold(), ['CummulativeCases']] = count_city(df_districts, city_name = i)\n",
    "    \n",
    "# print(df_cities)"
   ]
  },
  {
   "cell_type": "code",
   "execution_count": 18,
   "metadata": {},
   "outputs": [],
   "source": [
    "#all values in $billion\n",
    "dict_gdp = {\n",
    "    'Visakhapatnam': '43.5' ,#https://en.wikipedia.org/wiki/Economy_of_Visakhapatnam\n",
    "    'Aurangabad' : '13.05', #https://metroverse.cid.harvard.edu/city/7266/economic-composition\n",
    "    'Patna' : '30', #https://en.wikipedia.org/wiki/Economy_of_Bihar#Economy_of_Patna\n",
    "    'Chandigarh': '4.3', #https://en.wikipedia.org/wiki/Chandigarh#Economy\n",
    "    'Delhi': '210', #https://en.wikipedia.org/wiki/Economy_of_Delhi\n",
    "    'Ahmedabad' : '80', #https://en.wikipedia.org/wiki/Ahmedabad#Economy\n",
    "    'Surat' : '40', #https://en.wikipedia.org/wiki/Surat#Economy\n",
    "    'Thiruvananthapuram' : '13.1', #https://en.wikipedia.org/wiki/Thiruvananthapuram#Economy\n",
    "    'Kolhapur' :'6.1', #population*gdp/capita\n",
    "    'Mumbai' : '240', #https://en.wikipedia.org/wiki/Economy_of_Mumbai\n",
    "    'Nagpur' : '18', #https://en.wikipedia.org/wiki/Nagpur#Economy\n",
    "    'Nashik' : '15', #https://scroll.in/article/806071/dividing-maharashtra-how-poor-is-vidarbha-and-how-rich-is-konkan\n",
    "    'Pune' : '40', # https://en.wikipedia.org/wiki/Pune#Economy\n",
    "    'Bhopal' : '16.8', #https://en.wikipedia.org/wiki/Bhopal#Economy\n",
    "    'Ludhiana' : '6.8', #https://en.wikipedia.org/wiki/Economy_of_Ludhiana\n",
    "    'Ajmer' : '0.5', #https://www.brookings.edu/research/8-graphs-why-ajmer-allahabad-visakhapatnam-have-a-long-way-to-go-before-they-become-smart/\n",
    "    'Jaipur' : '15',#https://www.google.com/search?channel=fs&client=ubuntu&q=Jaipur+gdp\n",
    "    'Jodhpur' : '40', #https://en.wikipedia.org/wiki/Jodhpur\n",
    "    'Udaipur' : '30',\n",
    "    'Chennai' : '86', #https://en.wikipedia.org/wiki/Economy_of_Chennai\n",
    "    'Coimbatore' :'45', #https://en.wikipedia.org/wiki/Economy_of_Coimbatore\n",
    "    'Agra' : '8', #https://www.google.com/search?channel=fs&client=ubuntu&q=Agra+gdp\n",
    "    'Lucknow' : '7.8', #https://www.google.com/search?channel=fs&client=ubuntu&q=Lucknow+gdp\n",
    "    'Varanasi' : '3.8', #https://www.google.com/search?channel=fs&client=ubuntu&q=Varanasi+gdp\n",
    "    'Dehradun' : '7.1', #https://www.google.com/search?channel=fs&client=ubuntu&q=Dehradun+gdp\n",
    "    'Kolkata' : '150', #https://www.google.com/search?channel=fs&client=ubuntu&q=Kolkata+gdp\n",
    "    'Shimla' : '0.5', #https://en.wikipedia.org/wiki/List_of_Himachal_Pradesh_districts_by_GDP\n",
    "}"
   ]
  },
  {
   "cell_type": "code",
   "execution_count": 12,
   "metadata": {},
   "outputs": [
    {
     "name": "stdout",
     "output_type": "stream",
     "text": [
      "{'Visakhapatnam': '43.5'}\n"
     ]
    }
   ],
   "source": [
    "print(dict_gdp)"
   ]
  }
 ],
 "metadata": {
  "kernelspec": {
   "display_name": "Python 3",
   "language": "python",
   "name": "python3"
  },
  "language_info": {
   "codemirror_mode": {
    "name": "ipython",
    "version": 3
   },
   "file_extension": ".py",
   "mimetype": "text/x-python",
   "name": "python",
   "nbconvert_exporter": "python",
   "pygments_lexer": "ipython3",
   "version": "3.7.9"
  }
 },
 "nbformat": 4,
 "nbformat_minor": 4
}
