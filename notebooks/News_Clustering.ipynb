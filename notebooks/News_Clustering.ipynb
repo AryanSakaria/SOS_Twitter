{
 "cells": [
  {
   "cell_type": "code",
   "execution_count": 1,
   "id": "ed91d7e4",
   "metadata": {},
   "outputs": [],
   "source": [
    "import csv\n",
    "import os\n",
    "import pandas as pd\n",
    "import re\n",
    "import nltk\n",
    "import jsonlines\n",
    "import json\n",
    "import numpy as np\n",
    "import hdbscan\n",
    "from pprint import pprint\n",
    "#from vaderSentiment.vaderSentiment import SentimentIntensityAnalyzer\n",
    "from datetime import datetime as dt, timedelta as td\n",
    "import matplotlib.pyplot as plt\n",
    "from sklearn.decomposition import PCA\n",
    "\n"
   ]
  },
  {
   "cell_type": "code",
   "execution_count": 2,
   "id": "cc5f7b7a",
   "metadata": {},
   "outputs": [],
   "source": [
    "# data.to_pickle(\"../Data/News_patna_labelled4\")\n",
    "df = pd.read_pickle(\"../Data/News_patna_labelled4\")"
   ]
  },
  {
   "cell_type": "code",
   "execution_count": 3,
   "id": "ea959766",
   "metadata": {},
   "outputs": [],
   "source": [
    "from nltk.stem import WordNetLemmatizer\n",
    "from sklearn.feature_extraction.text import TfidfVectorizer,CountVectorizer\n",
    "from tqdm import tqdm\n",
    "# from wordcloud import WordCloud\n",
    "from scipy.spatial.distance import cdist\n",
    "from numpy import dot\n",
    "from numpy.linalg import norm"
   ]
  },
  {
   "cell_type": "markdown",
   "id": "46a39339",
   "metadata": {},
   "source": [
    "### Top Sentences for every Cluster "
   ]
  },
  {
   "cell_type": "code",
   "execution_count": 32,
   "id": "23dba0a7",
   "metadata": {},
   "outputs": [
    {
     "name": "stdout",
     "output_type": "stream",
     "text": [
      "array(['GAYA: In view of an exponential rise in Covid-19 cases, flyers will now have to produce a negative RT-PCR report at the Gaya international airport “Only after showing a negative test report, which has been issued 72 hours before one’s journey, one will be allowed to board flights to Delhi, Maharashtra , Punjab and Kerala. The Airports Authority of India (AAI) has issued an order in this regard,” Gaya airport director Dilip Kumar told this reporter on Tuesday.Similarly, people travelling to Gaya from Delhi, Maharashtra, Punjab and Kerala will also have to show a negative RT-PCR report. They will again be tested for Covid at the Gaya airport and allowed to leave on the basis of the report.“On reaching Gaya, the flyers will be placed under home quarantine for 10 days,” Dilip said.At present, the Gaya airport operates flights to Delhi, Kolkata and Varanasi. All international flights have been suspended since last year in view of the pandemic.',\n",
      "       'PATNA: Flyers travelling to Patna airport from Kerala Maharashtra and Punjab must have a negative RT-PCR test report not older than 72 hours. The decision has been taken in view of the surge in Covid-19 cases in the state capital.DM Chandrashekhar Singh has asked the Patna airport director to ensure that the passengers coming from Kerala, Maharashtra and Punjab will be allowed to board the flights for Patna only after furnishing a negative RT-PCR report not older than 72 hours.The district administration has also issued an advisory that all passengers who travelled from Maharashtra, Punjab and Kerala have to be in home quarantine for 10 days and self monitor their health over this period.The DM told this newspaper on Wednesday that the magistrates and district administration officials deployed at city airport will check the RT-PCR reports of flyers on reaching Patna from the three states. “Though 10 days’ home quarantine is not compulsory, but we have asked the airlines to instruct the passengers to follow the advisory for safety of flyers,” he said.“Due to space constraint, the medical team was not able to conduct rapid antigen test of all flyers coming from Maharashtra, Punjab and Kerala. Carrying negative RT-PCR report would make the process faster,” he said.Deputy general manager (air traffic management) at city airport, Santosh Kumar, said the AAI-Patna has instructed the airlines to comply with the order received on Saturday. “We have mailed the copy of the order to the headquarters and to different airlines,” he told this newspaper.'],\n",
      "      dtype=object)\n"
     ]
    }
   ],
   "source": [
    "CLUSTER = 43\n",
    "\n",
    "embed_cluster = np.array(df.loc[df['labels'] == CLUSTER]['embedding'].tolist())\n",
    "text = np.array(df.loc[df['labels'] == CLUSTER]['news'])\n",
    "\n",
    "cl = np.reshape(np.mean(embed_cluster,axis=0),(1,768))\n",
    "sscore = (1-cdist(cl,embed_cluster,metric='cosine'))*(-1)\n",
    "top_2_idx = np.argsort(sscore[0])\n",
    "\n",
    "top_2_values = [(text[i],sscore[0][i]) for i in top_2_idx]\n",
    "# pprint(top_2_values)\n",
    "# print(len(text))\n",
    "pprint(text)\n",
    "#df.loc[df['labels'] == CLUSTER]['date'].explode().value_counts()\n"
   ]
  },
  {
   "cell_type": "code",
   "execution_count": null,
   "id": "1fbd0a31",
   "metadata": {},
   "outputs": [],
   "source": []
  }
 ],
 "metadata": {
  "kernelspec": {
   "display_name": "Python 3 (ipykernel)",
   "language": "python",
   "name": "python3"
  },
  "language_info": {
   "codemirror_mode": {
    "name": "ipython",
    "version": 3
   },
   "file_extension": ".py",
   "mimetype": "text/x-python",
   "name": "python",
   "nbconvert_exporter": "python",
   "pygments_lexer": "ipython3",
   "version": "3.7.9"
  }
 },
 "nbformat": 4,
 "nbformat_minor": 5
}
