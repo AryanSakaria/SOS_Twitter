{
 "cells": [
  {
   "cell_type": "markdown",
   "metadata": {},
   "source": [
    "# Time series exploration\n",
    "\n",
    "Exploring the extent to which time series data is available and plotting based on time stamps\n",
    "\n",
    "---\n",
    "Import all relevant modules:"
   ]
  },
  {
   "cell_type": "code",
   "execution_count": 1,
   "metadata": {},
   "outputs": [],
   "source": [
    "import os\n",
    "import numpy as np\n",
    "import pandas as pd\n",
    "import matplotlib.pyplot as plt\n",
    "pd.options.mode.chained_assignment = None\n",
    "\n",
    "\n",
    "plt.style.use('ggplot')"
   ]
  },
  {
   "cell_type": "code",
   "execution_count": 2,
   "metadata": {},
   "outputs": [],
   "source": [
    "data_dir = \"../Data\"\n",
    "country_file = 'case_time_series.csv'\n",
    "states_file = 'states.csv'\n",
    "cities_file = 'city_counts_post11.csv'\n",
    "districts_file = 'districts.csv'\n",
    "\n",
    "country_path = os.path.join(data_dir, country_file)\n",
    "districts_path = os.path.join(data_dir, districts_file)\n",
    "states_path = os.path.join(data_dir, states_file)\n",
    "cities_path = os.path.join(data_dir, cities_file)\n",
    "#Read all as data frames\n",
    "df_country = pd.read_csv(country_path)\n",
    "df_districts = pd.read_csv(districts_path)\n",
    "df_states = pd.read_csv(states_path)\n",
    "df_cities = pd.read_csv(cities_path)"
   ]
  },
  {
   "cell_type": "markdown",
   "metadata": {},
   "source": [
    "## Task 1 \n",
    "\n",
    "List out all cities that we have to consider"
   ]
  },
  {
   "cell_type": "code",
   "execution_count": 3,
   "metadata": {},
   "outputs": [
    {
     "name": "stdout",
     "output_type": "stream",
     "text": [
      "['patna', 'ahmedabad', 'delhi', 'mumbai', 'hyderabad', 'jaipur', 'pune', 'kolkata', 'chandigarh', 'nagpur', 'lucknow', 'dehradun', 'goa', 'nashik', 'allahabad', 'visakhapatnam', 'kanpur', 'surat', 'varanasi', 'aurangabad', 'rajkot', 'vijayawada', 'bhopal', 'vadodara', 'coimbatore', 'agra', 'kochi', 'ludhiana', 'meerut', 'bareilly', 'kolhapur', 'bengaluru', 'chennai', 'madurai', 'thiruvananthapuram', 'trichy', 'gurgaon', 'jodhpur', 'ranchi', 'amaravati', 'ajmer', 'thane', 'navi-mumbai', 'noida', 'shimla', 'amritsar', 'udaipur']\n"
     ]
    }
   ],
   "source": [
    "#casefold helps with case-insensitive searching\n",
    "cities = [ i.casefold() for i in df_cities['City']]\n",
    "print(cities)"
   ]
  },
  {
   "cell_type": "markdown",
   "metadata": {},
   "source": [
    "## Task 2\n",
    "See if these cities fall in the same district categories"
   ]
  },
  {
   "cell_type": "code",
   "execution_count": 4,
   "metadata": {},
   "outputs": [
    {
     "name": "stdout",
     "output_type": "stream",
     "text": [
      "['Visakhapatnam', 'Aurangabad', 'Patna', 'Chandigarh', 'Delhi', 'Ahmedabad', 'Rajkot', 'Surat', 'Vadodara', 'Ranchi', 'Thiruvananthapuram', 'Kolhapur', 'Mumbai', 'Nagpur', 'Nashik', 'Pune', 'Thane', 'Bhopal', 'Amritsar', 'Ludhiana', 'Ajmer', 'Jaipur', 'Jodhpur', 'Udaipur', 'Chennai', 'Coimbatore', 'Madurai', 'Agra', 'Bareilly', 'Lucknow', 'Meerut', 'Varanasi', 'Dehradun', 'Kolkata', 'Shimla']\n"
     ]
    }
   ],
   "source": [
    "#Find unique districts in districts.csv file\n",
    "unique_districts = []\n",
    "for i in df_districts['District']:\n",
    "    if not i in unique_districts:\n",
    "        unique_districts.append(i)\n",
    "    \n",
    "#See how many of these districts match our cities\n",
    "cities_to_plot = []\n",
    "for i in unique_districts:\n",
    "    if i.casefold() in cities:\n",
    "        #Do not use casefold \n",
    "        #when appending as we\n",
    "        #will use this element\n",
    "        #to search in our dataframe\n",
    "        cities_to_plot.append(i)\n",
    "print(cities_to_plot)"
   ]
  },
  {
   "cell_type": "code",
   "execution_count": 5,
   "metadata": {
    "scrolled": true
   },
   "outputs": [],
   "source": [
    "#Default arguments added for testing\n",
    "def plot_city(df_districts, start_date = '2021-4-10', end_date = '2021-5-30', city_name='Delhi'):\n",
    "    df_filtered = df_districts[df_districts['District'] == city_name]\n",
    "    df_filtered['Date'] = pd.to_datetime(df_filtered['Date'], format='%Y-%m-%d')\n",
    "    mask = (df_filtered['Date'] >= start_date) & (df_filtered['Date'] <= end_date)\n",
    "    df_filtered = df_filtered.loc[mask]\n",
    "    change_in_cases = [0]\n",
    "    count = 0\n",
    "    for i in df_filtered['Confirmed']:\n",
    "        if count == 0:\n",
    "            prev = int(i)\n",
    "        else:\n",
    "            change_in_cases.append(int(i) - prev)\n",
    "            prev = int(i)\n",
    "        count += 1\n",
    "    \n",
    "    #matplotlib plotting:\n",
    "    #first convert to numpy\n",
    "    cases_np = np.array(change_in_cases)\n",
    "    plt.scatter(df_filtered['Date'],cases_np)\n",
    "    plt.show()"
   ]
  },
  {
   "cell_type": "code",
   "execution_count": 6,
   "metadata": {},
   "outputs": [
    {
     "data": {
      "image/png": "[encoded data removed]",
      "text/plain": [
       "<Figure size 432x288 with 1 Axes>"
      ]
     },
     "metadata": {
      "needs_background": "light"
     },
     "output_type": "display_data"
    }
   ],
   "source": [
    "#Edit dates and city here:\n",
    "\n",
    "#dates in yyyy-\n",
    "start_date = '2021-4-10'\n",
    "end_date = '2021-5-30'\n",
    "\n",
    "#change city. Ristrict to ones posted above\n",
    "city_name='Delhi'\n",
    "plot_city(df_districts, start_date, end_date, city_name)    "
   ]
  }
 ],
 "metadata": {
  "kernelspec": {
   "display_name": "Python 3",
   "language": "python",
   "name": "python3"
  },
  "language_info": {
   "codemirror_mode": {
    "name": "ipython",
    "version": 3
   },
   "file_extension": ".py",
   "mimetype": "text/x-python",
   "name": "python",
   "nbconvert_exporter": "python",
   "pygments_lexer": "ipython3",
   "version": "3.7.9"
  }
 },
 "nbformat": 4,
 "nbformat_minor": 4
}
